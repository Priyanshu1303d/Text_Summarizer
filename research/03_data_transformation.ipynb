{
 "cells": [
  {
   "cell_type": "code",
   "execution_count": 1,
   "metadata": {},
   "outputs": [],
   "source": [
    "import os"
   ]
  },
  {
   "cell_type": "code",
   "execution_count": 2,
   "metadata": {},
   "outputs": [
    {
     "data": {
      "text/plain": [
       "'/home/priyanshu1303d/Projects/Text_Summarizer/research'"
      ]
     },
     "execution_count": 2,
     "metadata": {},
     "output_type": "execute_result"
    }
   ],
   "source": [
    "%pwd"
   ]
  },
  {
   "cell_type": "code",
   "execution_count": 3,
   "metadata": {},
   "outputs": [],
   "source": [
    "os.chdir(\"../\")"
   ]
  },
  {
   "cell_type": "code",
   "execution_count": 5,
   "metadata": {},
   "outputs": [
    {
     "data": {
      "text/plain": [
       "'/home/priyanshu1303d/Projects/Text_Summarizer'"
      ]
     },
     "execution_count": 5,
     "metadata": {},
     "output_type": "execute_result"
    }
   ],
   "source": [
    "%pwd"
   ]
  },
  {
   "cell_type": "code",
   "execution_count": null,
   "metadata": {},
   "outputs": [],
   "source": [
    "from pathlib import Path\n",
    "from dataclasses import dataclass\n",
    "\n",
    "@dataclass(frozen= True)\n",
    "class DataTransformationConfig:\n",
    "    root_dir: Path\n",
    "    data_path: Path\n",
    "    tokenizer_name: Path"
   ]
  },
  {
   "cell_type": "code",
   "execution_count": 7,
   "metadata": {},
   "outputs": [],
   "source": [
    "from textSummarizer.constants  import *\n",
    "from textSummarizer.utils.common import read_yaml, create_directories"
   ]
  },
  {
   "cell_type": "code",
   "execution_count": 39,
   "metadata": {},
   "outputs": [],
   "source": [
    "class ConfigurationManager:\n",
    "    def __init__(self, config_filepath = CONFIG_FILE_PATH, params_filepath= PARAMS_FILE_PATH):\n",
    "        self.config = read_yaml(config_filepath)\n",
    "        self.params = read_yaml(params_filepath)\n",
    "\n",
    "        # self.config.artifacts_root = Path(self.config.artifacts_root)\n",
    "        print(self.config.artifacts_root)\n",
    "        print(type(self.config.artifacts_root))\n",
    "        create_directories([self.config.artifacts_root])\n",
    "\n",
    "    def get_data_transformation_config(self) -> DataTransformationConfig: \n",
    "        config = self.config.data_transformation\n",
    "\n",
    "        create_directories([config.root_dir])\n",
    "\n",
    "        data_transformation_config = DataTransformationConfig(\n",
    "            root_dir=config.root_dir,\n",
    "            data_path= config.data_path,\n",
    "            tokenizer_name= config.tokenizer_name,\n",
    "        )\n",
    "        return data_transformation_config\n"
   ]
  },
  {
   "cell_type": "code",
   "execution_count": 79,
   "metadata": {},
   "outputs": [],
   "source": [
    "from textSummarizer.logging import logger\n",
    "from transformers import AutoTokenizer\n",
    "from datasets import load_dataset, load_from_disk,DatasetDict"
   ]
  },
  {
   "cell_type": "code",
   "execution_count": 82,
   "metadata": {},
   "outputs": [],
   "source": [
    "from transformers import AutoTokenizer\n",
    "from datasets import load_from_disk, DatasetDict\n",
    "import os\n",
    "\n",
    "class DataTransformation:\n",
    "    def __init__(self, config: DataTransformationConfig):\n",
    "        self.config = config\n",
    "        self.tokenizer = AutoTokenizer.from_pretrained(config.tokenizer_name)\n",
    "    \n",
    "    def convert_examples_to_features(self, example_batch):\n",
    "        # Input validation\n",
    "        if 'dialogue' not in example_batch or 'summary' not in example_batch:\n",
    "            raise KeyError(\"Required keys 'dialogue' and 'summary' not found in the dataset\")\n",
    "        \n",
    "        # Process dialogues\n",
    "        dialogues = example_batch['dialogue']\n",
    "        # Ensure dialogues are in list format and all elements are strings\n",
    "        if isinstance(dialogues, (list, tuple)):\n",
    "            dialogues = [str(d) for d in dialogues]\n",
    "        else:\n",
    "            dialogues = [str(dialogues)]\n",
    "            \n",
    "        # Tokenize dialogues\n",
    "        input_encodings = self.tokenizer(\n",
    "            dialogues,\n",
    "            max_length=1024,\n",
    "            truncation=True,\n",
    "            padding='max_length',\n",
    "            return_tensors=None  # Return lists instead of tensors\n",
    "        )\n",
    "        \n",
    "        # Process summaries\n",
    "        summaries = example_batch['summary']\n",
    "        # Ensure summaries are in list format and all elements are strings\n",
    "        if isinstance(summaries, (list, tuple)):\n",
    "            summaries = [str(s) for s in summaries]\n",
    "        else:\n",
    "            summaries = [str(summaries)]\n",
    "        \n",
    "        # Tokenize summaries\n",
    "        with self.tokenizer.as_target_tokenizer():\n",
    "            target_encodings = self.tokenizer(\n",
    "                summaries,\n",
    "                max_length=128,\n",
    "                truncation=True,\n",
    "                padding='max_length',\n",
    "                return_tensors=None  # Return lists instead of tensors\n",
    "            )\n",
    "        \n",
    "        return {\n",
    "            'input_ids': input_encodings['input_ids'],\n",
    "            'attention_mask': input_encodings['attention_mask'],\n",
    "            'labels': target_encodings['input_ids']\n",
    "        }\n",
    "\n",
    "    def convert(self):\n",
    "        try:\n",
    "            # Load dataset\n",
    "            dataset_samsum = load_from_disk(self.config.data_path)\n",
    "            print(\"Dataset loaded successfully\")\n",
    "            print(\"Dataset structure:\", dataset_samsum)\n",
    "            \n",
    "            # Create output directory\n",
    "            output_dir = os.path.join(self.config.root_dir, \"samsum_dataset\")\n",
    "            os.makedirs(output_dir, exist_ok=True)\n",
    "            \n",
    "            # Initialize transformed dataset\n",
    "            transformed_dataset = DatasetDict()\n",
    "            \n",
    "            # Process each split\n",
    "            for split in dataset_samsum.keys():\n",
    "                print(f\"\\nProcessing {split} split...\")\n",
    "                \n",
    "                # Print sample for debugging\n",
    "                print(f\"Sample entry from {split}:\", dataset_samsum[split][0])\n",
    "                \n",
    "                # Transform the split with error handling\n",
    "                try:\n",
    "                    transformed_split = dataset_samsum[split].map(\n",
    "                        self.convert_examples_to_features,\n",
    "                        batched=True,\n",
    "                        batch_size=8,  # Smaller batch size for better error handling\n",
    "                        desc=f\"Processing {split} split\",\n",
    "                        remove_columns=dataset_samsum[split].column_names  # Remove original columns\n",
    "                    )\n",
    "                    \n",
    "                    # Add to transformed dataset\n",
    "                    transformed_dataset[split] = transformed_split\n",
    "                    print(f\"Successfully processed {split} split\")\n",
    "                    \n",
    "                except Exception as e:\n",
    "                    print(f\"Error processing {split} split: {str(e)}\")\n",
    "                    raise\n",
    "            \n",
    "            # Save transformed dataset\n",
    "            transformed_dataset.save_to_disk(output_dir)\n",
    "            print(f\"\\nTransformed dataset saved to {output_dir}\")\n",
    "            \n",
    "            return transformed_dataset\n",
    "            \n",
    "        except Exception as e:\n",
    "            print(f\"Error in convert method: {str(e)}\")\n",
    "            raise"
   ]
  },
  {
   "cell_type": "markdown",
   "metadata": {},
   "source": [
    "### Converting csv to .json such that it supports hugging face Datasets"
   ]
  },
  {
   "cell_type": "code",
   "execution_count": 59,
   "metadata": {},
   "outputs": [],
   "source": [
    "# Did this because in my dataset i only had Test Train Valid folder so first i changed the filename to test \n",
    "#train, validation as hugging face supports only lowercase folders in this case now after that i had missing\n",
    "#dataset_dict.json which is necessary for load_from_disk and save_to_disk function\n",
    "#\n",
    "\n",
    "#------------------------------------------------------------------------\n",
    "# from datasets import load_dataset, Dataset, DatasetDict\n",
    "\n",
    "# # Define file paths\n",
    "# data_files = {\n",
    "#     \"train\": \"artifacts/data_ingestion/Data/train/samsum_train.csv\",\n",
    "#     \"validation\": \"artifacts/data_ingestion/Data/validation/samsum_valid.csv\",\n",
    "#     \"test\": \"artifacts/data_ingestion/Data/test/samsum_test.csv\"\n",
    "# }\n",
    "\n",
    "# # Load CSV files correctly as Hugging Face datasets\n",
    "# dataset_dict = DatasetDict({\n",
    "#     split: load_dataset(\"csv\", data_files=path, split=\"train\") for split, path in data_files.items()\n",
    "# })\n",
    "\n",
    "# # Save the entire dataset in a single directory\n",
    "# dataset_dict.save_to_disk(\"artifacts/data_ingestion/Data\")\n",
    "\n",
    "# print(\"Dataset saved correctly!\")\n"
   ]
  },
  {
   "cell_type": "code",
   "execution_count": 60,
   "metadata": {},
   "outputs": [
    {
     "name": "stdout",
     "output_type": "stream",
     "text": [
      "Dataset loaded successfully!\n",
      "DatasetDict({\n",
      "    train: Dataset({\n",
      "        features: ['id', 'dialogue', 'summary'],\n",
      "        num_rows: 14732\n",
      "    })\n",
      "    validation: Dataset({\n",
      "        features: ['id', 'dialogue', 'summary'],\n",
      "        num_rows: 818\n",
      "    })\n",
      "    test: Dataset({\n",
      "        features: ['id', 'dialogue', 'summary'],\n",
      "        num_rows: 819\n",
      "    })\n",
      "})\n"
     ]
    }
   ],
   "source": [
    "from datasets import load_from_disk\n",
    "\n",
    "data_path = \"artifacts/data_ingestion/Data\"\n",
    "\n",
    "try:\n",
    "    dataset = load_from_disk(data_path)\n",
    "    print(\"Dataset loaded successfully!\")\n",
    "    print(dataset)\n",
    "except Exception as e:\n",
    "    print(f\"Error: {e}\")\n"
   ]
  },
  {
   "cell_type": "code",
   "execution_count": 61,
   "metadata": {},
   "outputs": [
    {
     "name": "stdout",
     "output_type": "stream",
     "text": [
      "['dataset_dict.json', 'validation', 'train', 'test']\n"
     ]
    }
   ],
   "source": [
    "import os\n",
    "\n",
    "dataset_path = \"artifacts/data_ingestion/Data\"\n",
    "files = os.listdir(dataset_path)\n",
    "print(files)"
   ]
  },
  {
   "cell_type": "code",
   "execution_count": 83,
   "metadata": {},
   "outputs": [
    {
     "name": "stdout",
     "output_type": "stream",
     "text": [
      "[2025-02-21 19:32:56,235 : INFO : common  : yaml file config/config.yaml was read succesfully]\n",
      "[2025-02-21 19:32:56,237 : INFO : common  : yaml file params.yaml was read succesfully]\n",
      "artifacts\n",
      "<class 'str'>\n",
      "[2025-02-21 19:32:56,238 : INFO : common  : Created directory at : artifacts]\n",
      "[2025-02-21 19:32:56,239 : INFO : common  : Created directory at : artifacts/data_transformation]\n",
      "Dataset loaded successfully\n",
      "Dataset structure: DatasetDict({\n",
      "    train: Dataset({\n",
      "        features: ['id', 'dialogue', 'summary'],\n",
      "        num_rows: 14732\n",
      "    })\n",
      "    validation: Dataset({\n",
      "        features: ['id', 'dialogue', 'summary'],\n",
      "        num_rows: 818\n",
      "    })\n",
      "    test: Dataset({\n",
      "        features: ['id', 'dialogue', 'summary'],\n",
      "        num_rows: 819\n",
      "    })\n",
      "})\n",
      "\n",
      "Processing train split...\n",
      "Sample entry from train: {'id': '13818513', 'dialogue': \"Amanda: I baked  cookies. Do you want some?\\r\\nJerry: Sure!\\r\\nAmanda: I'll bring you tomorrow :-)\", 'summary': 'Amanda baked cookies and will bring Jerry some tomorrow.'}\n"
     ]
    },
    {
     "name": "stderr",
     "output_type": "stream",
     "text": [
      "Processing train split: 100%|██████████| 14732/14732 [00:13<00:00, 1083.66 examples/s]\n"
     ]
    },
    {
     "name": "stdout",
     "output_type": "stream",
     "text": [
      "Successfully processed train split\n",
      "\n",
      "Processing validation split...\n",
      "Sample entry from validation: {'id': '13817023', 'dialogue': \"A: Hi Tom, are you busy tomorrow’s afternoon?\\r\\nB: I’m pretty sure I am. What’s up?\\r\\nA: Can you go with me to the animal shelter?.\\r\\nB: What do you want to do?\\r\\nA: I want to get a puppy for my son.\\r\\nB: That will make him so happy.\\r\\nA: Yeah, we’ve discussed it many times. I think he’s ready now.\\r\\nB: That’s good. Raising a dog is a tough issue. Like having a baby ;-) \\r\\nA: I'll get him one of those little dogs.\\r\\nB: One that won't grow up too big;-)\\r\\nA: And eat too much;-))\\r\\nB: Do you know which one he would like?\\r\\nA: Oh, yes, I took him there last Monday. He showed me one that he really liked.\\r\\nB: I bet you had to drag him away.\\r\\nA: He wanted to take it home right away ;-).\\r\\nB: I wonder what he'll name it.\\r\\nA: He said he’d name it after his dead hamster – Lemmy  - he's  a great Motorhead fan :-)))\", 'summary': 'A will go to the animal shelter tomorrow to get a puppy for her son. They already visited the shelter last Monday and the son chose the puppy. '}\n"
     ]
    },
    {
     "name": "stderr",
     "output_type": "stream",
     "text": [
      "Processing validation split: 100%|██████████| 818/818 [00:00<00:00, 1124.84 examples/s]\n"
     ]
    },
    {
     "name": "stdout",
     "output_type": "stream",
     "text": [
      "Successfully processed validation split\n",
      "\n",
      "Processing test split...\n",
      "Sample entry from test: {'id': '13862856', 'dialogue': \"Hannah: Hey, do you have Betty's number?\\nAmanda: Lemme check\\nHannah: <file_gif>\\nAmanda: Sorry, can't find it.\\nAmanda: Ask Larry\\nAmanda: He called her last time we were at the park together\\nHannah: I don't know him well\\nHannah: <file_gif>\\nAmanda: Don't be shy, he's very nice\\nHannah: If you say so..\\nHannah: I'd rather you texted him\\nAmanda: Just text him 🙂\\nHannah: Urgh.. Alright\\nHannah: Bye\\nAmanda: Bye bye\", 'summary': \"Hannah needs Betty's number but Amanda doesn't have it. She needs to contact Larry.\"}\n"
     ]
    },
    {
     "name": "stderr",
     "output_type": "stream",
     "text": [
      "Processing test split: 100%|██████████| 819/819 [00:00<00:00, 1067.44 examples/s]\n"
     ]
    },
    {
     "name": "stdout",
     "output_type": "stream",
     "text": [
      "Successfully processed test split\n"
     ]
    },
    {
     "name": "stderr",
     "output_type": "stream",
     "text": [
      "Saving the dataset (1/1 shards): 100%|██████████| 14732/14732 [00:00<00:00, 119376.53 examples/s]\n",
      "Saving the dataset (1/1 shards): 100%|██████████| 818/818 [00:00<00:00, 47304.40 examples/s]\n",
      "Saving the dataset (1/1 shards): 100%|██████████| 819/819 [00:00<00:00, 30686.47 examples/s]\n"
     ]
    },
    {
     "name": "stdout",
     "output_type": "stream",
     "text": [
      "\n",
      "Transformed dataset saved to artifacts/data_transformation/samsum_dataset\n"
     ]
    }
   ],
   "source": [
    "try:\n",
    "    config = ConfigurationManager()\n",
    "    data_transformation_config =config.get_data_transformation_config()\n",
    "    data_transformation = DataTransformation(config = data_transformation_config)\n",
    "    data_transformation.convert()\n",
    "except Exception as e:\n",
    "    raise e"
   ]
  },
  {
   "cell_type": "code",
   "execution_count": null,
   "metadata": {},
   "outputs": [],
   "source": []
  },
  {
   "cell_type": "code",
   "execution_count": null,
   "metadata": {},
   "outputs": [],
   "source": []
  },
  {
   "cell_type": "code",
   "execution_count": null,
   "metadata": {},
   "outputs": [],
   "source": []
  }
 ],
 "metadata": {
  "kernelspec": {
   "display_name": "textS",
   "language": "python",
   "name": "python3"
  },
  "language_info": {
   "codemirror_mode": {
    "name": "ipython",
    "version": 3
   },
   "file_extension": ".py",
   "mimetype": "text/x-python",
   "name": "python",
   "nbconvert_exporter": "python",
   "pygments_lexer": "ipython3",
   "version": "3.10.16"
  }
 },
 "nbformat": 4,
 "nbformat_minor": 2
}
